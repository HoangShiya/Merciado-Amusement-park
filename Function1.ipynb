{
  "nbformat": 4,
  "nbformat_minor": 0,
  "metadata": {
    "colab": {
      "name": "Function.ipynb",
      "provenance": [],
      "collapsed_sections": [],
      "authorship_tag": "ABX9TyOXsT3b/cnfmCptrhH3OqiJ",
      "include_colab_link": true
    },
    "kernelspec": {
      "name": "python3",
      "display_name": "Python 3"
    },
    "language_info": {
      "name": "python"
    }
  },
  "cells": [
    {
      "cell_type": "markdown",
      "metadata": {
        "id": "view-in-github",
        "colab_type": "text"
      },
      "source": [
        "<a href=\"https://colab.research.google.com/github/shiya10576/Merciado-Amusement-park/blob/master/Function1.ipynb\" target=\"_parent\"><img src=\"https://colab.research.google.com/assets/colab-badge.svg\" alt=\"Open In Colab\"/></a>"
      ]
    },
    {
      "cell_type": "markdown",
      "metadata": {
        "id": "Ctm17oQ1Ng6a"
      },
      "source": [
        "Bài 1: Hãy xây dựng một hàm thực hiện các yêu cầu sau: \n",
        "- Xuất ra màn hình câu thông báo: “Lập trình Java 2021” \n",
        "- Hàm không có giá trị trả về \n",
        "Từ chương trình chính, gọi thực hiện hàm này. \n",
        "\n"
      ]
    },
    {
      "cell_type": "code",
      "metadata": {
        "colab": {
          "base_uri": "https://localhost:8080/"
        },
        "id": "LK7rAbyzMZr9",
        "outputId": "98059776-522f-475d-9d64-103dbede67cc"
      },
      "source": [
        "\"\"\"\n",
        "Tên hàm: PrintJavaText\n",
        "Chức năng: In ra màn hình \"Lập trình Java 2021\"\n",
        "\"\"\"\n",
        "def PrintJavaText():\n",
        "  print(\"Lap trinh Java 2021\")\n",
        "\n",
        "#Goi ham HelloJava2021\n",
        "PrintJavaText()\n"
      ],
      "execution_count": null,
      "outputs": [
        {
          "output_type": "stream",
          "name": "stdout",
          "text": [
            "Lap trinh Java 2021\n"
          ]
        }
      ]
    },
    {
      "cell_type": "markdown",
      "metadata": {
        "id": "rzirc7X8NjAY"
      },
      "source": [
        "Bài 2: Hãy xây dựng một hàm thực hiện các yêu cầu sau: \n",
        "- Nhận một tham số đầu vào là một chuỗi ký tự (kiểu String) \n",
        "- Xuất ra màn hình nội dung chuỗi được truyền vào từ tham số \n",
        "- Hàm không có giá trị trả về \n",
        "Từ chương trình chính gọi thực hiện hàm này. \n",
        "\n"
      ]
    },
    {
      "cell_type": "code",
      "metadata": {
        "colab": {
          "base_uri": "https://localhost:8080/"
        },
        "id": "Olk7z8dpNmAR",
        "outputId": "bdf2af87-c0c0-480e-f7e6-a845c5ffa65c"
      },
      "source": [
        "\"\"\"\n",
        "Ten ham: PrintString\n",
        "Chuc nang: Xuat ra man hinh noi dung chuoi duoc truyen vao tu tham so\n",
        "\"\"\"\n",
        "def PrintString(StringInput):\n",
        "  print(StringInput)\n",
        "\n",
        "#Goi ham PrintString va truyen gia tri StringInput duoc nhap vao tu ban phim\n",
        "PrintString(input(\"Moi ban nhap gia tri: \"))\n"
      ],
      "execution_count": null,
      "outputs": [
        {
          "output_type": "stream",
          "name": "stdout",
          "text": [
            "Moi ban nhap gia tri: abc123\n",
            "abc123\n"
          ]
        }
      ]
    },
    {
      "cell_type": "markdown",
      "metadata": {
        "id": "_XEKnq2oPmVY"
      },
      "source": [
        "Bài 3: Hãy viết chương trình thực hiện các yêu cầu sau: \n",
        "- Nhập một số nguyên dương n từ bàn phím (kiểm tra nếu không đạt yêu cầu thì bắt nhập  lại) \n",
        "- Nhập một thông điệp từ bàn phím \n",
        "- Gọi thực hiện hàm ở Bài 2 n lần với thông điệp được truyền làm tham số đầu vào của hàm. \n"
      ]
    },
    {
      "cell_type": "code",
      "metadata": {
        "colab": {
          "base_uri": "https://localhost:8080/"
        },
        "id": "oowrvtJXPm1Z",
        "outputId": "85ab9a1e-c5c2-4fd6-a280-6904b78cf28f"
      },
      "source": [
        "\"\"\"\n",
        "Ten ham: PrintString\n",
        "Chuc nang: Xuat ra man hinh noi dung chuoi duoc truyen vao tu tham so\n",
        "Gia tri: 2 bien StringInput, NumberIntegerInput duoc nhap vao tu ban phim\n",
        "Luu y: Ham khong co gia tri tra ve tu chuong trinh chinh\n",
        "\"\"\"\n",
        "def PrintString():\n",
        "  #Tao bien bien NumberIntegerInput la gia tri so nguyen duong duoc nhap vao tu ban phim, neu khong dung thi yeu cau nhap lai\n",
        "  NumberIntegerInput = int(input(\"Moi ban nhap so nguyen duong n: \"))\n",
        "  while not (NumberIntegerInput > 0):\n",
        "    NumberIntegerInput = int(input(\"Yeu cau ban nhap so nguyen duong n: \"))\n",
        "\n",
        "  #Tao bien StringInput voi chuc nang nhap vao thong diep tu ban phim\n",
        "  StringInput = input(\"Moi ban nhap thong diep tu ban phim: \")\n",
        "\n",
        "  #Xuat gia tri ra man hinh bang vong lap for\n",
        "  for x in range(1, NumberIntegerInput + 1):\n",
        "    print(StringInput)\n",
        "\n",
        "PrintString()\n",
        "\n"
      ],
      "execution_count": 2,
      "outputs": [
        {
          "output_type": "stream",
          "name": "stdout",
          "text": [
            "Moi ban nhap so nguyen duong n: 5\n",
            "Moi ban nhap thong diep tu ban phim: abc\n",
            "abc\n",
            "abc\n",
            "abc\n",
            "abc\n",
            "abc\n"
          ]
        }
      ]
    },
    {
      "cell_type": "markdown",
      "metadata": {
        "id": "MQhjF5N4UGQ4"
      },
      "source": [
        "Bài 4: Hãy viết chương trình thực hiện các yêu cầu sau: \n",
        "- Xây dựng hàm giải phương trình bậc 1 (ax + b = 0), với hệ số a & b được truyền vào qua  thông số của hàm. \n",
        "- Chương trình chính nhận các thông số a, b từ bàn phím  \n",
        "- Chương trình chính gọi hàm giải phương trình bậc 1 nêu trên \n"
      ]
    },
    {
      "cell_type": "code",
      "metadata": {
        "colab": {
          "base_uri": "https://localhost:8080/"
        },
        "id": "2xVnn-7xUIzO",
        "outputId": "2a6c48a4-1ffd-463a-907a-447e2416735d"
      },
      "source": [
        "\"\"\"\n",
        "Tên hàm: EquationOfDegreeOne\n",
        "Chức năng: Giải phương trình bậc 1\n",
        "Giá trị: 2 biến NumberInput1, NumberInput2 được nhập vào từ bàn phím\n",
        "Biện luận:\n",
        "Nếu a != 0: có nghiệm duy nhất x = -b/a\n",
        "Nếu a =0 0:\n",
        "+ b != 0: Vô nghiệm\n",
        "+ b == 0: Vô số nghiệm\n",
        "\"\"\"\n",
        "def EquationOfDegreeOne():\n",
        "  #Nhập lần lượt 2 giá trị a, b vào từ bàn phím\n",
        "  NumberInput1 = int(input(\"Mời bạn nhập giá trị a vào từ bàn phím: \"))\n",
        "  NumberInput2 = int(input(\"Mời bạn nhập giá trị b vào từ bàn phím: \"))\n",
        "\n",
        "  #Biện luận nghiệm pt\n",
        "  if (NumberInput1 != 0):\n",
        "    print(\"Phương trình ax + b = 0 có nghiệm là: \", round(-NumberInput2/NumberInput1, 2))\n",
        "  else:\n",
        "    if (NumberInput2 != 0):\n",
        "      print(\"Phương trình vô nghiệm\")\n",
        "    else:\n",
        "      print(\"Phương trình vô số nghiệm\")\n",
        "\n",
        "\n",
        "\n",
        "#Gọi hàm giải pt bậc nhất\n",
        "EquationOfDegreeOne()"
      ],
      "execution_count": 5,
      "outputs": [
        {
          "output_type": "stream",
          "name": "stdout",
          "text": [
            "Mời bạn nhập giá trị a vào từ bàn phím: 4\n",
            "Mời bạn nhập giá trị b vào từ bàn phím: 5\n",
            "Phương trình ax + b = 0 có nghiệm là:  -1.25\n"
          ]
        }
      ]
    },
    {
      "cell_type": "markdown",
      "metadata": {
        "id": "-RNMIWiyWGn3"
      },
      "source": [
        "Bài 5: Hãy viết chương trình thực hiện các yêu cầu sau: \n",
        "- Xây dựng hàm giải phương trình bậc (ax2 + bx + c = 0), với hệ số a & b & c được truyền  vào qua thông số của hàm. \n",
        "- Chương trình chính nhận các thông số a, b & c từ bàn phím  \n",
        "- Chương trình chính gọi hàm giải phương trình bậc 2 nêu trên \n"
      ]
    },
    {
      "cell_type": "code",
      "metadata": {
        "colab": {
          "base_uri": "https://localhost:8080/"
        },
        "id": "kc464SFZWtWv",
        "outputId": "16eaade9-cc28-425d-b5b9-f5e0d4c7a09f"
      },
      "source": [
        "#Impot thư viện toán\n",
        "import math\n",
        "\n",
        "\"\"\"\n",
        "Tên hàm: EquationOfDegreeTwo\n",
        "Chức năng: Giải phương trình bậc 2\n",
        "Giá trị: 3 biến NumberInput1, NumberInput2, NumberInput3 được nhập vào từ bàn phím\n",
        "Biến trung gian: \n",
        "1. delta: biến để đối chiếu với điều kiện các trường hợp trong pt bậc 2 với delta = b^2 - 4ac\n",
        "delta < 0 => vô nghiệm\n",
        "delta = 0 => pt có nghiệm kép x1 = x2 = -b/2a\n",
        "delta > 0 => pt có 2 nghiệm phân biệt\n",
        "\"\"\"\n",
        "def EquationOfDegreeTwo():\n",
        "  #Nhập lần lượt 3 giá trị a, b, c vào từ bàn phím\n",
        "  NumberInput1 = int(input(\"Mời bạn nhập giá trị a vào từ bàn phím: \"))\n",
        "  NumberInput2 = int(input(\"Mời bạn nhập giá trị b vào từ bàn phím: \"))\n",
        "  NumberInput3 = int(input(\"Mời bạn nhập giá trị c vào từ bàn phím: \"))\n",
        "\n",
        "  #Tính giá trị của delta\n",
        "  delta = NumberInput2^2-4*NumberInput2*NumberInput2\n",
        "\n",
        "  #Đối chiếu delta với các điều kiện\n",
        "  if delta < 0:\n",
        "    print(\"Phương trình vô nghiệm\")\n",
        "  elif delta == 0:\n",
        "    print(\"Phương trình có nghiệm kép x1 = x2 = \", -NumberInput2/(2*NumberInput1))\n",
        "  else:\n",
        "    print(\"Phương trình có 2 nghiệm phân biệt: \")\n",
        "    print(\"x1 = \", (-NumberInput2 + sqrt(delta)) / 2 * NumberInput1)\n",
        "    print(\"x2 = \", (-NumberInput2 - sqrt(delta)) / 2 * NumberInput1)\n",
        "\n",
        "\n",
        "\n",
        "#Gọi hàm giải pt bậc 2\n",
        "EquationOfDegreeTwo()"
      ],
      "execution_count": 3,
      "outputs": [
        {
          "output_type": "stream",
          "name": "stdout",
          "text": [
            "Mời bạn nhập giá trị a vào từ bàn phím: 1\n",
            "Mời bạn nhập giá trị b vào từ bàn phím: 2\n",
            "Mời bạn nhập giá trị c vào từ bàn phím: 3\n",
            "Phương trình vô nghiệm\n"
          ]
        }
      ]
    },
    {
      "cell_type": "markdown",
      "metadata": {
        "id": "1tZFtV-4ZCU-"
      },
      "source": [
        "Bài 6: Hãy viết chương trình thực hiện các yêu cầu sau:\n",
        "- Cho người dùng lựa chọn giải phương trình bậc 1 hay bậc 2 bằng cách nhập số (1 hay 2)  từ bàn phím \n",
        "- Nếu người dùng chọn giải phương trình bậc 1, thì thực hiện các bước như Bài 4 - Nếu người dùng chọn giải phương trình bậc 2, thì thực hiện các bước như Bài 5 \n"
      ]
    },
    {
      "cell_type": "code",
      "metadata": {
        "id": "8qjRorgfZDOA"
      },
      "source": [
        "\"\"\"\n",
        "Tên hàm: getInputValue\n",
        "Chức năng: Nhập giá trị đầu vào từ bàn phím để lựa chọn giải phương trình\n",
        "Biến cục bộ: \n",
        "1) ValueInput : lưu giá trị đầu vào từ bàn phím\n",
        "Quy trình:\n",
        "1) Biến ValueInput lưu giá trị nhập vào từ bàn phím\n",
        "2) Đối chiếu giá trị của biến ValueInput để lựa chọn giải pt:\n",
        "+ Nếu ValueInput = 1 thì giải pt bậc 1 (Gọi hàm EquationOfDegreeOne)\n",
        "+ Nếu ValueInput = 2 thì giải pt bậc 1 (Gọi hàm EquationOfDegreeTwo)\n",
        "\"\"\"\n",
        "def getInputValue():\n",
        "  #Người dùng nhập số vào từ bàn phím\n",
        "  ValueInput = int(input(\"Mời bạn lựa chọn giải phương trình, chọn 1 để giải pt bậc nhất, 2 để giải pt bậc 2: \"))\n",
        "\n",
        "  #Nếu chọn 1 thì gọi hàm EquationOfDegreeOne(), chọn 2 thì gọi hàm EquationOfDegreeTwo()\n",
        "  if (ValueInput == 1):\n",
        "    EquationOfDegreeOne()\n",
        "  if (ValueInput == 2):\n",
        "    EquationOfDegreeTwo\n",
        "\n",
        "#Gọi hàm getInputValue\n",
        "getInputValue()"
      ],
      "execution_count": null,
      "outputs": []
    },
    {
      "cell_type": "markdown",
      "metadata": {
        "id": "Hp-DbMxDO0R8"
      },
      "source": [
        "Bài 7: Viết chương trình thực hiện các yêu cầu sau: \n",
        "- Thực hiện yêu cầu như bài 6 \n",
        "- Sau khi thực hiện xong cho người dùng lựa chọn tiếp tục thực hiện lại hay kết thúc chương  trình\n",
        "\n"
      ]
    },
    {
      "cell_type": "code",
      "metadata": {
        "id": "X-35P8WRO2ZV"
      },
      "source": [
        "\"\"\"\n",
        "Tên hàm: ContinueOrBreakOfFunction\n",
        "Chức năng: Người dùng nhập vào giá trị yes/no từ bàn phím, nếu đồng ý chương trình sẽ tiếp tục thực thi, còn không thì dừng lại\n",
        "Biến cục bộ: \n",
        "1) getInputValue.ContinueOrBeakOfFunction : lưu giá trị đầu vào từ bàn phím\n",
        "Quy trình:\n",
        "1) Biến getInputValue.ContinueOrBeakOfFunction lưu giá trị nhập vào từ bàn phím\n",
        "2) Sử dụng if-else để đối chiếu giá trị của biến getInputValue.ContinueOrBeakOfFunction:\n",
        "+ Nếu getInputValue.ContinueOrBeakOfFunction = Y (Yes) thì chương trình sẽ thực thi lại hàm ContinueOrBreakOfFunction\n",
        "+ Nếu getInputValue.ContinueOrBeakOfFunction = N (No) thì chương trình sẽ hiện lời cảm ơn và kết thúc chương trình\n",
        "\"\"\"\n",
        "def ContinueOrBreakOfFunction():\n",
        "  #Gọi hàm getInputValue\n",
        "  getInputValue()\n",
        "\n",
        "  #Tạo biến getInputValue.ContinueOrBeakFunction có giá trị boolean (Yes/no) từ màn hình\n",
        "  getInputValue.ContinueOrBeakOfFunction = input(\"Bạn có muốn tiếp tục chương trình? Y/Yes, N/No: \")\n",
        "  if (getInputValue.ContinueOrBeakOfFunction == \"Y\"):\n",
        "    ContinueOrBreakOfFunction()\n",
        "  else:\n",
        "    print(\"Cảm ơn bạn đã chạy chương trình, chúc bạn có một ngày tốt lành ^^\")\n",
        "    exit(0)\n",
        "\n",
        "#Gọi hàm ContinueOrBreakOfFunction()\n",
        "ContinueOrBreakOfFunction()"
      ],
      "execution_count": null,
      "outputs": []
    }
  ]
}