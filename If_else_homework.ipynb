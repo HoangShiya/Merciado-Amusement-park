{
  "nbformat": 4,
  "nbformat_minor": 0,
  "metadata": {
    "colab": {
      "name": "If else homework.ipynb",
      "provenance": [],
      "collapsed_sections": [],
      "authorship_tag": "ABX9TyOWDnz4oCODBZ1tnqD3lJUz",
      "include_colab_link": true
    },
    "kernelspec": {
      "name": "python3",
      "display_name": "Python 3"
    },
    "language_info": {
      "name": "python"
    }
  },
  "cells": [
    {
      "cell_type": "markdown",
      "metadata": {
        "id": "view-in-github",
        "colab_type": "text"
      },
      "source": [
        "<a href=\"https://colab.research.google.com/github/shiya10576/Merciado-Amusement-park/blob/master/If_else_homework.ipynb\" target=\"_parent\"><img src=\"https://colab.research.google.com/assets/colab-badge.svg\" alt=\"Open In Colab\"/></a>"
      ]
    },
    {
      "cell_type": "markdown",
      "metadata": {
        "id": "11Y9Rk3aBg17"
      },
      "source": [
        "1. Write a Python program to get a number from the user and print whether it is positive or negative \n",
        "Test Data \n",
        "Input number: 35 \n",
        "Expected Output : \n",
        "Number is positive \n"
      ]
    },
    {
      "cell_type": "code",
      "metadata": {
        "colab": {
          "base_uri": "https://localhost:8080/"
        },
        "id": "0ES7KxZxBh7i",
        "outputId": "a034ed74-73ec-46d6-c4e6-91e3097e0380"
      },
      "source": [
        "#Nhap dau vao gia tri\n",
        "number = float(input(\"Nhap gia tri dau vao: \"))\n",
        "\n",
        "#Neu gia tri nhap vao la 0 thi yeu cau nhap lai\n",
        "while not (number != 0):\n",
        "  number = float(input(\"Gia tri khong hop le, yeu cau nhap lai!\\n\"))\n",
        "\n",
        "#Neu number lon hon 0 la so duong, be hon 0 la so am\n",
        "if (number > 0):\n",
        "  print(\"Day la so duong\")\n",
        "else:\n",
        "  print(\"Day la so am\")\n",
        "\n"
      ],
      "execution_count": 6,
      "outputs": [
        {
          "output_type": "stream",
          "name": "stdout",
          "text": [
            "Nhap gia tri dau vao: 0\n",
            "Gia tri khong hop le, yeu cau nhap lai!\n",
            "-3\n",
            "Day la so am\n"
          ]
        }
      ]
    },
    {
      "cell_type": "markdown",
      "metadata": {
        "id": "PXnnliW5CHFb"
      },
      "source": [
        "2. Take three numbers from the user and print the greatest number \n",
        "Test Data \n",
        "Input the 1st number: 25 \n",
        "Input the 2nd number: 78 \n",
        "Input the 3rd number: 87 \n",
        "Expected Output : \n",
        "The greatest: 87 \n",
        "\n"
      ]
    },
    {
      "cell_type": "code",
      "metadata": {
        "colab": {
          "base_uri": "https://localhost:8080/"
        },
        "id": "GhTqTgCYCTnL",
        "outputId": "14ca1676-dfbd-44e7-ae56-499bea5c1dc8"
      },
      "source": [
        "#Nhap 3 gia tri dau vao\n",
        "number1 = float(input(\"Nhap gia tri thu nhat: \"))\n",
        "number2 = float(input(\"Nhap gia tri thu hai: \"))\n",
        "number3 = float(input(\"Nhap gia tri thu ba: \"))\n",
        "\n",
        "#Tim gia tri lon nhat trong ba so\n",
        "#C1: tao mot bien max gan gia tri cho number1 roi so sanh voi cac gia tri con lai, neu co gia tri lon hon thi gan max cho bien co gia tri tuong ung\n",
        "#C2: ham max()\n",
        "max = number1\n",
        "if (number2 > max):\n",
        "  max == number2\n",
        "if (number3 > max):\n",
        "  max == number3\n",
        "\n",
        "#Xuat gia tri lon nhat\n",
        "print(\"Gia tri lon nhat la: \", max)"
      ],
      "execution_count": 2,
      "outputs": [
        {
          "output_type": "stream",
          "name": "stdout",
          "text": [
            "Nhap gia tri thu nhat: 12\n",
            "Nhap gia tri thu hai: 5\n",
            "Nhap gia tri thu ba: 4\n",
            "Gia tri lon nhat la:  12.0\n"
          ]
        }
      ]
    },
    {
      "cell_type": "markdown",
      "metadata": {
        "id": "jQqWIi1fDWwt"
      },
      "source": [
        "3. Write a Python program that reads a floating-point number and prints \"zero\" if the number is  zero. Otherwise, print \"positive\" or \"negative\". Add \"small\" if the absolute value of the number is  less than 1, or \"large\" if it exceeds 1,000,000. \n",
        "Test Data \n",
        "Input a number: 25 \n",
        "Expected Output : \n",
        "Input value: 25 \n",
        "Positive number \n"
      ]
    },
    {
      "cell_type": "code",
      "metadata": {
        "colab": {
          "base_uri": "https://localhost:8080/"
        },
        "id": "EyujMLCcDXpr",
        "outputId": "39fc6183-2a5e-498c-fdc0-884583c5dd4d"
      },
      "source": [
        "#Nhap gia tri dau vao\n",
        "number = float(input(\"Moi ban nhap gia tri: \"))\n",
        "\n",
        "#Thuc hien tinh toan\n",
        "if (number == 0):\n",
        "  print(\"zero\")\n",
        "elif (number > 0):\n",
        "  print(\"positive\")\n",
        "else:\n",
        "  print(\"negative\")\n",
        "\n",
        "if (abs(number) < 1):\n",
        "  print(\"small\")\n",
        "if (number > 1000000):\n",
        "  print(\"large\")\n"
      ],
      "execution_count": 10,
      "outputs": [
        {
          "output_type": "stream",
          "name": "stdout",
          "text": [
            "Moi ban nhap gia tri: -0.5\n",
            "negative\n",
            "small\n"
          ]
        }
      ]
    },
    {
      "cell_type": "markdown",
      "metadata": {
        "id": "624dt-F3GbPc"
      },
      "source": [
        "4. Write a Python program that keeps a number from the user and generates an integer between 1  and 7 and displays the name of the weekday. \n",
        "Test Data \n",
        "Input number: 3 \n",
        "Expected Output : \n",
        "Wednesday \n"
      ]
    },
    {
      "cell_type": "code",
      "metadata": {
        "colab": {
          "base_uri": "https://localhost:8080/"
        },
        "id": "kTk1eVFbGbzU",
        "outputId": "b9322729-d9e2-4402-d7f1-beb4b410b468"
      },
      "source": [
        "#Nhap du lieu dau vao\n",
        "number = int(input(\"Moi ban nhap so nguyen tu 1 den 7: \"))\n",
        "\n",
        "#Neu gia tri nam ngoai khoang 1-7, yeu cau nhap lai\n",
        "while not (number >= 1) and (number <= 7):\n",
        "  number = int(input(\"Moi ban nhap lai so nguyen tu 1 den 7: \\n\"))\n",
        "\n",
        "#Thuc hien tinh toan (1-7 tuong duong thu hai-chu nhat, co the dung if-else or switch-case)\n",
        "if (number == 1):\n",
        "  print(\"Thu hai\")\n",
        "elif (number == 2):\n",
        "  print(\"Thu ba\")\n",
        "elif (number == 3):\n",
        "  print(\"Thu tu\")\n",
        "elif (number == 4):\n",
        "  print(\"Thu nam\")\n",
        "elif (number == 5):\n",
        "  print(\"Thu sau\")\n",
        "elif (number == 6):\n",
        "  print(\"Thu bay\")\n",
        "elif (number == 7):\n",
        "  print(\"Chu nhat\")\n"
      ],
      "execution_count": 28,
      "outputs": [
        {
          "name": "stdout",
          "output_type": "stream",
          "text": [
            "Moi ban nhap so nguyen tu 1 den 7: 8\n"
          ]
        }
      ]
    },
    {
      "cell_type": "markdown",
      "metadata": {
        "id": "ASzw5PL1IJQb"
      },
      "source": [
        "5. Write a Python program that reads in two floating-point numbers and tests whether they are the  same up to three decimal places. \n",
        "Test Data \n",
        "Input floating-point number: 25.586 \n",
        "Input floating-point another number: 25.589 \n",
        "Expected Output :\n"
      ]
    },
    {
      "cell_type": "code",
      "metadata": {
        "colab": {
          "base_uri": "https://localhost:8080/"
        },
        "id": "U-9mTDudIJyN",
        "outputId": "4676849f-dd0f-45cc-c50c-cd650e963d97"
      },
      "source": [
        "#Nhap gia tri dau vao 2 so thuc\n",
        "number1 = float(input(\"Nhap gia tri thu nhat: \"))\n",
        "number2 = float(input(\"Nhap gia tri thu hai: \"))\n",
        "\n",
        "#Lam tro chu so thap phan thu 3\n",
        "number1 = round(number1, 3)\n",
        "number2 = round(number2, 3)\n",
        "\n",
        "#So sanh hai so co giong nhau den 3 chu so thap phan hay khong\n",
        "if (number1 == number2):\n",
        "  print(\"Same\")\n",
        "else:\n",
        "  print(\"Diffrent\")"
      ],
      "execution_count": 24,
      "outputs": [
        {
          "output_type": "stream",
          "name": "stdout",
          "text": [
            "Nhap gia tri thu nhat: 1.234\n",
            "Nhap gia tri thu hai: 2.23456\n",
            "Diffrent\n"
          ]
        }
      ]
    }
  ]
}