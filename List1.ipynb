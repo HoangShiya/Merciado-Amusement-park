{
  "nbformat": 4,
  "nbformat_minor": 0,
  "metadata": {
    "colab": {
      "name": "Untitled6.ipynb",
      "provenance": [],
      "collapsed_sections": [],
      "authorship_tag": "ABX9TyPfRpW/tDdTiEMxUOxFhm/o",
      "include_colab_link": true
    },
    "kernelspec": {
      "name": "python3",
      "display_name": "Python 3"
    },
    "language_info": {
      "name": "python"
    }
  },
  "cells": [
    {
      "cell_type": "markdown",
      "metadata": {
        "id": "view-in-github",
        "colab_type": "text"
      },
      "source": [
        "<a href=\"https://colab.research.google.com/github/shiya10576/Merciado-Amusement-park/blob/master/List1.ipynb\" target=\"_parent\"><img src=\"https://colab.research.google.com/assets/colab-badge.svg\" alt=\"Open In Colab\"/></a>"
      ]
    },
    {
      "cell_type": "markdown",
      "metadata": {
        "id": "sLCGViBYP-fY"
      },
      "source": [
        "Bài 1: Viết chương trình thực hiện các yêu cầu sau: \n",
        "- Nhập một chuỗi kí tự từ bàn phím \n",
        "- Nhập tên tập tin từ bàn phím \n",
        "- Lưu chuỗi ký tự ở trên vào tập tin. \n"
      ]
    },
    {
      "cell_type": "code",
      "metadata": {
        "id": "uwM2d_VzP5W2"
      },
      "source": [
        "#Import module pathlib de dieu khien duong dan he thong file\n",
        "import pathlib\n",
        "\n",
        "#Tao file moi trong python bang phuong thuc path.touch\n",
        "pathOfFile = pathlib.Path('./test/list1.txt')\n",
        "pathOfFile.touch()\n",
        "\n",
        "#Mo va ghi file list1.txt (r+ de doc va ghi)\n",
        "handleOfFile = open('list1.txt', 'r+')\n",
        "\n",
        "#Nhap chuoi ki tu tu ban phim\n",
        "getDataInput = input(\"Moi ban nhap chuoi ki tu vao tu ban phim: \")\n",
        "\n",
        "#Nhap ten tap tin tu ban phim\n",
        "getNameOfFile = input(\"Moi ban nhap ten file: \")\n",
        "\n",
        "#Luu chuoi ky tu o tren vao tap tin\n",
        "handleOfFile.write(getDataInput)\n",
        "\n",
        "#Dong file\n",
        "handleOfFile.close()\n"
      ],
      "execution_count": null,
      "outputs": []
    },
    {
      "cell_type": "markdown",
      "metadata": {
        "id": "eBODvlaPRWx4"
      },
      "source": [
        "Bài 2: Viết chương trình thực hiện các yêu cầu sau: \n",
        "- Nhập tên tập tin từ bàn phím \n",
        "- Đọc nội dung tập tin và in ra màn hình \n"
      ]
    },
    {
      "cell_type": "code",
      "metadata": {
        "id": "fFlq24F-RYTX"
      },
      "source": [
        "#Mo file text1.txt (r chi de doc)\n",
        "handleOfFile = open('list1.txt', 'r')\n",
        "\n",
        "#Tao bien handleOfFile_read de lay doc du lieu tu file list1.txt\n",
        "handleOfFile_read = handleOfFile.read()\n",
        "\n",
        "#In du lieu file ra man hinh thong qua bien handleOfFile_read\n",
        "print(handleOfFile_read)\n",
        "\n",
        "#Dong file\n",
        "handleOfFile.close()"
      ],
      "execution_count": null,
      "outputs": []
    },
    {
      "cell_type": "markdown",
      "metadata": {
        "id": "hHpwOlj-RYfH"
      },
      "source": [
        "Bài 3: Viết chương trình thực hiện các yêu cầu sau: \n",
        "- Nhập tên tập tin từ bàn phím \n",
        "- Nhập một chuỗi kí tự vào từ bàn phím \n",
        "- Ghi chuỗi kí tự này vào cuối tập tin ở trên \n"
      ]
    },
    {
      "cell_type": "code",
      "metadata": {
        "id": "mYt1c55nRbB_"
      },
      "source": [
        "#Mo file text1.txt (a de mo file va ghi them vao cuoi file)\n",
        "handleOfFile = open('list1.txt', 'a')\n",
        "\n",
        "#Nhap chuoi ki tu tu ban phim\n",
        "getDataInput = input(\"Moi ban nhap chuoi ki tu vao tu ban phim: \")\n",
        "\n",
        "#Ghi chuoi ki tu nay vao cuoi tap tin o tren\n",
        "handleOfFile.write(getDataInput)\n",
        "\n",
        "#Dong file\n",
        "handleOfFile.close()\n"
      ],
      "execution_count": null,
      "outputs": []
    },
    {
      "cell_type": "markdown",
      "metadata": {
        "id": "XLhC6C3YRbMf"
      },
      "source": [
        "Bài 4: Viết chương trình thực hiện các yêu cầu sau: \n",
        "- Đọc tập tin ở bài 3 và ghi kết quả ra màn hình \n"
      ]
    },
    {
      "cell_type": "code",
      "metadata": {
        "id": "y1huAtlwRdP_"
      },
      "source": [
        "#Mo file text1.txt (r chi de doc)\n",
        "handleOfFile = open('list1.txt', 'r')\n",
        "\n",
        "#Tao bien handleOfFile_read de lay doc du lieu tu file list1.txt\n",
        "handleOfFile_read = handleOfFile.read()\n",
        "\n",
        "#In du lieu file ra man hinh thong qua bien handleOfFile_read\n",
        "print(handleOfFile_read)\n",
        "\n",
        "#Dong file\n",
        "handleOfFile.close()\n"
      ],
      "execution_count": null,
      "outputs": []
    },
    {
      "cell_type": "markdown",
      "metadata": {
        "id": "8N7pAoq5RdXH"
      },
      "source": [
        "Bài 5: Viết chương trình thực các yêu cầu sau: \n",
        "- Sinh ngẫu nhiên 1 danh sách gồm 1000 số nguyên trong khoảng từ [-1000, 1000] - Nhập tên tập tin từ bàn phím \n",
        "- Ghi danh sách trên vào tập tin theo quy tắc: \n",
        "o 10 số trên một hàng \n",
        "o Các số phân tách nhau bởi dấu phẩy (,) \n",
        "- Đọc nội dung tập tin ở trên và in ra màn hình theo quy tắc: \n",
        "o 10 số trên một hàng \n",
        "o Các số phan tách nhau bởi dấu tab."
      ]
    },
    {
      "cell_type": "code",
      "metadata": {
        "id": "OA1X_YqlRiXw"
      },
      "source": [
        "#Import  thu vien random\n",
        "import random\n",
        "\n",
        "#Tao bien randomList de tao danh sach 1000 so nguyen trong khoang -1000...1000 bang cu phap long random.randrange ket hop vong lap for \n",
        "randomList = [random.randrange(-1000, 1001) for i in range(1, 10001)]\n",
        "\n",
        "\"\"\"\n",
        "MO FILE DE GHI\n",
        "*10 so tren mot hang\n",
        "*cac so phan tach nhau boi dau phay\n",
        "=> Su dung randomlist de lay ngau nhien gia tri bat ki trong list\n",
        "\"\"\"\n",
        "#Mo file text1.txt (w chi de ghi)\n",
        "handleOfFile = open('list1.txt', 'w')\n",
        "\n",
        "#Su dung 2 vong lap long nhau de thuc hien ghi file (Ma tran cap 2 {100 X 10} gom 100 hang va 10 cot)\n",
        "for i in range(0, 100):\n",
        "  for j in range(0, 10):\n",
        "    if j == 9:\n",
        "      handleOfFile.write(str(randomlist[i * 10 + j]))\n",
        "    else:\n",
        "      handleOfFile.write(str(randomlist[i * 10 + j] + \",\"))\n",
        "  #Su dung \\n de xuong hang khi da in du 10 so\n",
        "  handleOfFile.write(\"\\n\")\n",
        "\n",
        "#Dong file\n",
        "handleOfFile.close()\n",
        "\n",
        "\n",
        "\"\"\"\n",
        "MO FILE DE DOC\n",
        "*10 so tren mot hang\n",
        "*cac so phan tach nhau boi dau tab\n",
        "=> Su dung randomlist de lay ngau nhien gia tri bat ki trong list\n",
        "Parameter inside: handleOfFile_line de doc tung dong\n",
        "\"\"\"\n",
        "#Mo file text1.txt (r chi de ghi)\n",
        "handleOfFile = open('list1.txt', 'r')\n",
        "\n",
        "#Tao bien handleOfFile_line de doc tung dong\n",
        "handleOfFile_line = handleOfFile.readline()\n",
        "\n",
        "#Dung vong lap for cho tung dong {Loai bo cac dau \",\" bang cu phap split va thay the bang \" \" bang cu cu phap join}\n",
        "for i in range(0, 100):\n",
        "  handleOfFile_line[i] = \" \".join(handleOfFile_line[i].split(\",\"))\n",
        "  print(handleOfFile_line[i])\n",
        "\n",
        "#Dong file\n",
        "handleOfFile.close()\n",
        "  "
      ],
      "execution_count": null,
      "outputs": []
    }
  ]
}