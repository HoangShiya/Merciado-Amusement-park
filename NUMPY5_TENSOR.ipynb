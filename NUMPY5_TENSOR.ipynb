{
  "nbformat": 4,
  "nbformat_minor": 0,
  "metadata": {
    "colab": {
      "name": "NUMPY5-TENSOR",
      "private_outputs": true,
      "provenance": [],
      "collapsed_sections": [],
      "include_colab_link": true
    },
    "kernelspec": {
      "name": "python3",
      "display_name": "Python 3"
    },
    "language_info": {
      "name": "python"
    }
  },
  "cells": [
    {
      "cell_type": "markdown",
      "metadata": {
        "id": "view-in-github",
        "colab_type": "text"
      },
      "source": [
        "<a href=\"https://colab.research.google.com/github/HoangShiya/Merciado-Amusement-park/blob/master/NUMPY5_TENSOR.ipynb\" target=\"_parent\"><img src=\"https://colab.research.google.com/assets/colab-badge.svg\" alt=\"Open In Colab\"/></a>"
      ]
    },
    {
      "cell_type": "markdown",
      "source": [
        "# NUMPY 5 - TENSOR\n",
        "---\n",
        "---"
      ],
      "metadata": {
        "id": "siHH4oqku8Yc"
      }
    },
    {
      "cell_type": "markdown",
      "source": [
        "## ***Bài tập 1***: \n",
        "Bạn hãy tìm hiểu:\n",
        "1. Thư viện Pillow (viết tắt PIL) chuyên dụng thao tác với ảnh;\n",
        "2. Sử dụng thư viện PIL để đọc một bức ảnh vào bộ nhớ\n",
        "3. In bức ảnh ra màn hình\n",
        "4. Chuyển bức ảnh từ cấu trúc dữ liệu của PIL sang NumPy array và xuất ra số chiều (ndim)  và kích thước (shape) của array kết quả. \n",
        "5. In nội dung của array thu được ở câu (4) ra màn hình. \n",
        "6. Bạn hãy thử tìm hiểu các thao tác khác với ảnh như: (i) chuyển ảnh màu sang ảnh xám; (ii)  lưu ảnh vào máy; (iii) phòng to hay thu nhỏ ảnh; .v.v. \n",
        "7. Bạn hãy tìm hiểu thư viện OpenCV chuyên dụng xử lý ảnh.\n",
        "---"
      ],
      "metadata": {
        "id": "B5eOBAUHvMMy"
      }
    },
    {
      "cell_type": "markdown",
      "source": [
        "Sử dụng các module cần thiết"
      ],
      "metadata": {
        "id": "tiwC_d2ov1AR"
      }
    },
    {
      "cell_type": "code",
      "execution_count": null,
      "metadata": {
        "id": "FcyBSvN9px0X"
      },
      "outputs": [],
      "source": [
        "from PIL import Image\n",
        "import numpy as np"
      ]
    },
    {
      "cell_type": "markdown",
      "source": [
        "**Câu 1**: Sử dụng thư viện Pillow (PIL Fork) để tiến hành các thao tác xử lý hình ảnh đơn giản như resize, crop, rotate…"
      ],
      "metadata": {
        "id": "ysBTZAwGqrNL"
      }
    },
    {
      "cell_type": "markdown",
      "source": [
        "**Câu 2**: Sử dụng thư viện PIL để đọc một bức ảnh vào bộ nhớ"
      ],
      "metadata": {
        "id": "r3M6_a68v8Vw"
      }
    },
    {
      "cell_type": "code",
      "source": [
        "from google.colab import drive\n",
        "drive.mount('/content/drive')\n",
        "img = Image.open(r\"drive/MyDrive/Python/spiderman.jpg\")"
      ],
      "metadata": {
        "id": "KGjJluh9zpEz"
      },
      "execution_count": null,
      "outputs": []
    },
    {
      "cell_type": "markdown",
      "source": [
        "**Câu 3**: In bức ảnh ra màn hình"
      ],
      "metadata": {
        "id": "wpIx-aByz35k"
      }
    },
    {
      "cell_type": "code",
      "source": [
        "img.show()"
      ],
      "metadata": {
        "id": "GGF8FzUK0NOC"
      },
      "execution_count": null,
      "outputs": []
    },
    {
      "cell_type": "markdown",
      "source": [
        "**Câu 4**: Chuyển bức ảnh từ cấu trúc dữ liệu của PIL sang NumPy array và xuất ra số chiều (ndim)  và kích thước (shape) của array kết quả. "
      ],
      "metadata": {
        "id": "DKCTkT660Vzw"
      }
    },
    {
      "cell_type": "code",
      "source": [
        "# Chuyển bức ảnh từ cấu trúc dữ liệu của PIL sang NumPy array \n",
        "change_img = np.array(img.getdata())\n",
        "\n",
        "print(f\"Số chiều của bức ảnh: {change_img.ndim}\")\n",
        "print(f\"Kích thước của bức ảnh:{change_img.shape}\")"
      ],
      "metadata": {
        "id": "9RhN4sOI0hvw"
      },
      "execution_count": null,
      "outputs": []
    },
    {
      "cell_type": "markdown",
      "source": [
        "**Câu 5**: In nội dung của array thu được ở câu (4) ra màn hình."
      ],
      "metadata": {
        "id": "PkUnxXXl0tt4"
      }
    },
    {
      "cell_type": "code",
      "source": [
        "print(f\"Nội dung array của bức ảnh:\\n {change_img}\")"
      ],
      "metadata": {
        "id": "Mrf6Ad8p1meQ"
      },
      "execution_count": null,
      "outputs": []
    },
    {
      "cell_type": "markdown",
      "source": [
        "**Câu 6**: Bạn hãy thử tìm hiểu các thao tác khác với ảnh như: (i) chuyển ảnh màu sang ảnh xám; (ii)  lưu ảnh vào máy; (iii) phòng to hay thu nhỏ ảnh; .v.v. "
      ],
      "metadata": {
        "id": "AOURLmxI1AhR"
      }
    },
    {
      "cell_type": "markdown",
      "source": [
        "> (I) Chuyển ảnh thành màu xám"
      ],
      "metadata": {
        "id": "zbdQlJID1UiI"
      }
    },
    {
      "cell_type": "code",
      "source": [
        "img_gray = img.convert(\"L\")\n",
        "\n",
        "print(f\"Ảnh sau khi chuyển thành màu xám: {img_gray}\")"
      ],
      "metadata": {
        "id": "z-JuB5jN2AGs"
      },
      "execution_count": null,
      "outputs": []
    },
    {
      "cell_type": "markdown",
      "source": [
        "> (II) Lưu ảnh vào máy"
      ],
      "metadata": {
        "id": "7qyGQhop1Y02"
      }
    },
    {
      "cell_type": "code",
      "source": [
        "img_gray.save(\"new_spiderman.jpg\")"
      ],
      "metadata": {
        "id": "3cOWKMMN2ODf"
      },
      "execution_count": null,
      "outputs": []
    },
    {
      "cell_type": "markdown",
      "source": [
        "> (III.a) Phóng to ảnh"
      ],
      "metadata": {
        "id": "_mCJ29E51dJ3"
      }
    },
    {
      "cell_type": "code",
      "source": [
        "new_width  = 1000\n",
        "new_height = 1000\n",
        "img_bigger = img.resize((new_width,new_height))\n",
        "\n",
        "print(f\"Bức ảnh sau khi được phóng lớn: {img_bigger}\")"
      ],
      "metadata": {
        "id": "igfxrCh-23Uu"
      },
      "execution_count": null,
      "outputs": []
    },
    {
      "cell_type": "markdown",
      "source": [
        "> (III.b) Thu nhỏ ảnh"
      ],
      "metadata": {
        "id": "MQtCjtBC1rIq"
      }
    },
    {
      "cell_type": "code",
      "source": [
        "new_height_ = 100\n",
        "new_width_  = 100\n",
        "img_smaller = img.resize((new_height_,new_width_))\n",
        "\n",
        "print(f\"Bức ảnh sau khi được thu nhỏ: {img_smaller}\")"
      ],
      "metadata": {
        "id": "x--KAZO93Arb"
      },
      "execution_count": null,
      "outputs": []
    },
    {
      "cell_type": "markdown",
      "source": [
        "> (IV) Xoay ngược ảnh"
      ],
      "metadata": {
        "id": "hUBaJINQ16Gg"
      }
    },
    {
      "cell_type": "code",
      "source": [
        "img_rotate = img.rotate((180))\n",
        "\n",
        "print(f\"Bức ảnh sau khi được xoay 180 độ: {img_rotate}\")"
      ],
      "metadata": {
        "id": "zmafAF5Y3deh"
      },
      "execution_count": null,
      "outputs": []
    },
    {
      "cell_type": "markdown",
      "source": [
        "**Câu 7**: bạn hãy tìm hiểu thư viện OpenCV chuyên xử lý ảnh"
      ],
      "metadata": {
        "id": "xPsxxwot29dv"
      }
    },
    {
      "cell_type": "markdown",
      "source": [
        "**Khái niệm OpenCV là gì?**\n",
        "\n",
        "OpenCV là tên viết tắt của open source computer vision library – có thể được hiểu là một thư viện nguồn mở cho máy tính. Cụ thể hơn OpenCV là kho lưu trữ các mã nguồn mở được dùng để xử lý hình ảnh, phát triển các ứng dụng đồ họa trong thời gian thực.\n",
        "\n",
        "OpenCV cho phép cải thiện tốc độ của CPU khi thực hiện các hoạt động real time. Nó còn cung cấp một số lượng lớn các mã xử lý phục vụ cho quy trình của thị giác máy tính hay các learning machine khác.\n"
      ],
      "metadata": {
        "id": "plvcfVq245y0"
      }
    },
    {
      "cell_type": "markdown",
      "source": [
        "**Các module được dùng trong OpenCV là gì?**\n",
        "\n",
        "OpenCV có cấu trúc module, tức là nó bao gồm cả những thư viện liên kết tĩnh lẫn thư viện liên kết động. Nắm rõ các module của OpenCV sẽ giúp bạn đọc hoàn toàn thấu hiểu OpenCV là gì.\n",
        "\n",
        "* Core functionality (core): Module này sở hữu cơ chế rất nhỏ gọn. Nó được dùng để định hình các cấu trúc của cơ sở dữ liệu cơ bản, bao gồm cả những mảng đa chiều. Ngoài ra nó còn xác định các chức năng của những module đi kèm khác nữa.\n",
        "* Image Processing (imgproc): Đây là module được dùng cho quá trình xử lý hình ảnh. Nó cho phép người dùng thực hiện các hoạt động như lọc hình ảnh tuyến tính và phi tuyến, thực hiện phép biến hình, thay đổi không gian màu, xây dựng biểu đồ và rất nhiều thao tác khác liên quan.\n",
        "* Video Analysis (video): Giống như tên gọi của nó, module này cho phép phân tích các video. Kết quả được trả về bao gồm các ước tính chuyển động, thực hiện tách nền và các phép toán theo dõi vật thể.\n",
        "* Camera Calibration and 3D Reconstruction (calib3d): Module này cung cấp các thuật toán hình học đa chiều cơ bản và hiệu chuẩn máy ảnh single và stereo. Ngoài ra nó còn đưa ra các dự đoán kiểu dáng của đối tượng và sử dụng thuật toán thư tín âm thanh nổi cùng các yếu tố tái tạo 3D.\n",
        "2D Features Framework (features2d): Module này giúp phát hiện các tính năng nổi trội của bộ nhận diện, bộ truy xuất thông số và thông số đối chọi.\n",
        "* Ngoài ra còn có rất nhiều module khác với đa dạng tính năng, ví dụ như: FLANN, Google test wrapper…"
      ],
      "metadata": {
        "id": "7kwt2V4i5JQD"
      }
    },
    {
      "cell_type": "markdown",
      "source": [
        "## ***Bài tập 2 - Thư viện thao tác với cấu trúc Tensor***: \n",
        "Thực ra thư viện NumPy là thư viện nền tảng,  dựa trên nó có nhiều thư viện được phát triển chuyên biệt. Để thao tác với cấu trúc Tensor có 2  thư viện rất nổi tiếng, gồm:\n",
        "- TensorFlow\n",
        "- PyTorch\n",
        "\n",
        "***Bạn hãy***:\n",
        "1. Lựa chọn 1 trong 2 thư viện kể trên\n",
        "2. Thực hiện tạo các Tensor hạng 1, 2, 3, 4 bằng cách sử dụng thư viện đó\n",
        "---"
      ],
      "metadata": {
        "id": "ZcnkPhK22QpC"
      }
    },
    {
      "cell_type": "markdown",
      "source": [
        "Sử dụng các module cần thiết"
      ],
      "metadata": {
        "id": "n5w17JYG2u6Y"
      }
    },
    {
      "cell_type": "code",
      "source": [
        "import tensorflow as tf"
      ],
      "metadata": {
        "id": "ofEno4A03n5D"
      },
      "execution_count": null,
      "outputs": []
    },
    {
      "cell_type": "markdown",
      "source": [
        "> Khởi tạo tensor hạng 1"
      ],
      "metadata": {
        "id": "INMK8U7a2zhn"
      }
    },
    {
      "cell_type": "code",
      "source": [
        "ts_1 = tf.constant([1])\n",
        "\n",
        "print(f\"Giá trị tensor:\\n {ts_1}\")\n",
        "print(f\"Hạng: {ts_1.ndim}\")"
      ],
      "metadata": {
        "id": "GqzLgC_R5gnM"
      },
      "execution_count": null,
      "outputs": []
    },
    {
      "cell_type": "markdown",
      "source": [
        "> Khởi tạo tensor hạng 2"
      ],
      "metadata": {
        "id": "ysuAwyMX5U6F"
      }
    },
    {
      "cell_type": "code",
      "source": [
        "ts_2 = tf.constant([[1], [2]])\n",
        "\n",
        "print(f\"Tensor hạng 2:\\n {ts_2}\")\n",
        "print(f\"Hạng: {ts_2.ndim}\")"
      ],
      "metadata": {
        "id": "bl_BgpTP5xiJ"
      },
      "execution_count": null,
      "outputs": []
    },
    {
      "cell_type": "markdown",
      "source": [
        "> Khởi tạo tensor hạng 3"
      ],
      "metadata": {
        "id": "Eoo5dvN85WZ9"
      }
    },
    {
      "cell_type": "code",
      "source": [
        "ts_3 = tf.constant([[[3., 3.]]])\n",
        "\n",
        "print(f\"Giá trị tensor:\\n {ts_3}\")\n",
        "print(f\"Hạng: {ts_3.ndim}\")"
      ],
      "metadata": {
        "id": "u8Q7Onx45ymQ"
      },
      "execution_count": null,
      "outputs": []
    },
    {
      "cell_type": "markdown",
      "source": [
        "> Khởi tạo tensor hạng 4"
      ],
      "metadata": {
        "id": "oGAkJ1-f5Xqt"
      }
    },
    {
      "cell_type": "code",
      "source": [
        "ts_4 = tf.constant([[[[5., 6.]]]])\n",
        "\n",
        "print(f\"Giá trị tensor:\\n {ts_4}\")\n",
        "print(f\"Hạng: {ts_4.ndim}\")"
      ],
      "metadata": {
        "id": "PN6ZZtfy51I0"
      },
      "execution_count": null,
      "outputs": []
    }
  ]
}