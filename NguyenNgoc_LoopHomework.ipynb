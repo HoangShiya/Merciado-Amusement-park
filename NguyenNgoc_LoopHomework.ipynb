{
  "nbformat": 4,
  "nbformat_minor": 0,
  "metadata": {
    "colab": {
      "name": "NguyenNgoc_LoopHomework.ipynb",
      "provenance": [],
      "authorship_tag": "ABX9TyMR2ksBjuiy6k38TTCB3Wvf",
      "include_colab_link": true
    },
    "kernelspec": {
      "display_name": "Python 3",
      "name": "python3"
    },
    "language_info": {
      "name": "python"
    }
  },
  "cells": [
    {
      "cell_type": "markdown",
      "metadata": {
        "id": "view-in-github",
        "colab_type": "text"
      },
      "source": [
        "<a href=\"https://colab.research.google.com/github/shiya10576/Merciado-Amusement-park/blob/master/NguyenNgoc_LoopHomework.ipynb\" target=\"_parent\"><img src=\"https://colab.research.google.com/assets/colab-badge.svg\" alt=\"Open In Colab\"/></a>"
      ]
    },
    {
      "cell_type": "markdown",
      "metadata": {
        "id": "ovHbM905MR5V"
      },
      "source": [
        "Exercise 1: Print First 10 natural numbers using while loop "
      ]
    },
    {
      "cell_type": "code",
      "metadata": {
        "colab": {
          "base_uri": "https://localhost:8080/"
        },
        "id": "nGpv7NdQM1-Q",
        "outputId": "3a44ec5b-c87b-4ec1-d26e-d41d25b4a000"
      },
      "source": [
        "number = 0\n",
        "while (number < 10):\n",
        "  print(number)\n",
        "  number += 1"
      ],
      "execution_count": null,
      "outputs": [
        {
          "name": "stdout",
          "output_type": "stream",
          "text": [
            "0\n",
            "1\n",
            "2\n",
            "3\n",
            "4\n",
            "5\n",
            "6\n",
            "7\n",
            "8\n",
            "9\n"
          ]
        }
      ]
    },
    {
      "cell_type": "markdown",
      "metadata": {
        "id": "6DjcFDK4Ngjo"
      },
      "source": [
        "Exercise 2: Print the following pattern :\n",
        "5 4 3 2 1  \n",
        "4 3 2 1  \n",
        "3 2 1  \n",
        "2 1  \n",
        "1 \n"
      ]
    },
    {
      "cell_type": "code",
      "metadata": {
        "colab": {
          "base_uri": "https://localhost:8080/"
        },
        "id": "Udgl9_cpNhKe",
        "outputId": "73143f14-d9ea-4e0f-b637-d1cd8ac8831e"
      },
      "source": [
        "NumberInput = 5\n",
        "for i in range(NumberInput, 0, -1):\n",
        "  for j in range(i, 0, -1):\n",
        "    print(j, end = \" \")\n",
        "  print(\"\\n\")"
      ],
      "execution_count": 27,
      "outputs": [
        {
          "output_type": "stream",
          "name": "stdout",
          "text": [
            "5 4 3 2 1 \n",
            "\n",
            "4 3 2 1 \n",
            "\n",
            "3 2 1 \n",
            "\n",
            "2 1 \n",
            "\n",
            "1 \n",
            "\n"
          ]
        }
      ]
    },
    {
      "cell_type": "markdown",
      "metadata": {
        "id": "DDIgw8i_RKb-"
      },
      "source": [
        "Exercise 3: Calculate the sum of all numbers from 1 to a given number "
      ]
    },
    {
      "cell_type": "code",
      "metadata": {
        "colab": {
          "base_uri": "https://localhost:8080/"
        },
        "id": "Cz-ggf7URLCP",
        "outputId": "95102954-f24f-4726-fd7e-5e8461e365d0"
      },
      "source": [
        "#Nhap gia tri dau vao\n",
        "NumberInput = int(input(\"Moi ban nhap gia tri: \"))\n",
        "\n",
        "#Tinh tong cac so tu 1 toi so da nhap\n",
        "#Y tuong: Khoi tao bien sum bang 0, chay vong lap tu 1 toi so nhap vao roi cong lan luot vao sum\n",
        "sum = 0\n",
        "for i in range(1, NumberInput + 1):\n",
        "  sum += i\n",
        "\n",
        "#Xuat gia tong cac so tu 1 toi cac so da cho\n",
        "print(\"Tong cac so tu 1 toi cac so da cho la: \", sum)"
      ],
      "execution_count": 33,
      "outputs": [
        {
          "output_type": "stream",
          "name": "stdout",
          "text": [
            "Moi ban nhap gia tri: 3\n",
            "Tong cac so tu 1 toi cac so da cho la:  6\n"
          ]
        }
      ]
    },
    {
      "cell_type": "markdown",
      "metadata": {
        "id": "ubl4LK-JSFfN"
      },
      "source": [
        "Exercise 4: Write a program to print multiplication table of a given number with natural numbers  from 1 to 10. "
      ]
    },
    {
      "cell_type": "code",
      "metadata": {
        "colab": {
          "base_uri": "https://localhost:8080/"
        },
        "id": "RwqZ1OUhSGDV",
        "outputId": "b08b975c-5968-469d-bddf-e77ecf9c20d0"
      },
      "source": [
        "#Nhap gia tri dau vao\n",
        "NumberInput = int(input(\"Moi ban nhap gia tri dau vao: \"))\n",
        "\n",
        "#Xuat ra ban cuu chuong voi cac so tu nhien tu 1 den 10\n",
        "print(\"Bang cuu chuong so \", NumberInput)\n",
        "for i in range(1, 10 + 1):\n",
        "  print(NumberInput, \"*\", i, \"=\", NumberInput * i)\n",
        "\n",
        "\n"
      ],
      "execution_count": 37,
      "outputs": [
        {
          "output_type": "stream",
          "name": "stdout",
          "text": [
            "Moi ban nhap gia tri dau vao: 5\n",
            "Bang cuu chuong so  5\n",
            "5 * 1 = 5\n",
            "5 * 2 = 10\n",
            "5 * 3 = 15\n",
            "5 * 4 = 20\n",
            "5 * 5 = 25\n",
            "5 * 6 = 30\n",
            "5 * 7 = 35\n",
            "5 * 8 = 40\n",
            "5 * 9 = 45\n",
            "5 * 10 = 50\n"
          ]
        }
      ]
    },
    {
      "cell_type": "markdown",
      "metadata": {
        "id": "sJR_XTujNaG3"
      },
      "source": [
        ""
      ]
    },
    {
      "cell_type": "markdown",
      "metadata": {
        "id": "Ymq5YUWcTM0n"
      },
      "source": [
        "Exercise 5: Display numbers from a list using loop \n"
      ]
    },
    {
      "cell_type": "code",
      "metadata": {
        "colab": {
          "base_uri": "https://localhost:8080/"
        },
        "id": "3yhfvZuHTjDe",
        "outputId": "c067934a-f432-495c-b19c-f6233f042c3d"
      },
      "source": [
        "ValueInput = [\"apple\", \"banana\", \"cherry\"]\n",
        "for x in ValueInput:\n",
        "  print(x)"
      ],
      "execution_count": 39,
      "outputs": [
        {
          "output_type": "stream",
          "name": "stdout",
          "text": [
            "apple\n",
            "banana\n",
            "cherry\n"
          ]
        }
      ]
    },
    {
      "cell_type": "markdown",
      "metadata": {
        "id": "vOGwfETnT3WW"
      },
      "source": [
        "Exercise 6: Count the total number of digits in a number "
      ]
    },
    {
      "cell_type": "code",
      "metadata": {
        "colab": {
          "base_uri": "https://localhost:8080/"
        },
        "id": "2QH_1iozT40s",
        "outputId": "a3db28f2-7dc1-45c3-a8e3-d239c814919f"
      },
      "source": [
        "#Nhap gia tri dau vai\n",
        "NumberInput = int(input(\"Enter number:\"))\n",
        "\n",
        "#Thuc hien tinh toan\n",
        "count = 0\n",
        "while(NumberInput > 0):\n",
        "    count = count+1\n",
        "    NumberInput = NumberInput //10\n",
        "\n",
        "#Xuat gia tri\n",
        "print(\"The number of digits in the number are:\", count)\n"
      ],
      "execution_count": 44,
      "outputs": [
        {
          "output_type": "stream",
          "name": "stdout",
          "text": [
            "Enter number:123\n",
            "The number of digits in the number are: 3\n"
          ]
        }
      ]
    },
    {
      "cell_type": "markdown",
      "metadata": {
        "id": "TQZWTpTlWCqd"
      },
      "source": [
        "Exercise 7: Print list in reverse order using a loop\n"
      ]
    },
    {
      "cell_type": "code",
      "metadata": {
        "colab": {
          "base_uri": "https://localhost:8080/"
        },
        "id": "fkYyBThuWHc0",
        "outputId": "13368eb1-7fb3-4adf-c0e7-086711cb5ead"
      },
      "source": [
        "#Nhap gia tri dau vao cua List\n",
        "ListInput = list(input(\"Moi ban nhap gia tri List: \"))\n",
        "\n",
        "#Thuc hien in dao List\n",
        "for i in reversed(ListInput):\n",
        "  print(i)"
      ],
      "execution_count": 51,
      "outputs": [
        {
          "output_type": "stream",
          "name": "stdout",
          "text": [
            "Moi ban nhap gia tri List: 1 2 3 a b s\n",
            "s\n",
            " \n",
            "b\n",
            " \n",
            "a\n",
            " \n",
            "3\n",
            " \n",
            "2\n",
            " \n",
            "1\n"
          ]
        }
      ]
    },
    {
      "cell_type": "markdown",
      "metadata": {
        "id": "oYhtpqJ-XoO0"
      },
      "source": [
        "Exercise 8: Display numbers from -10 to -1 using for loop "
      ]
    },
    {
      "cell_type": "code",
      "metadata": {
        "colab": {
          "base_uri": "https://localhost:8080/"
        },
        "id": "rPyNEVt9Xs1z",
        "outputId": "d16aa5f5-a0de-4f57-da30-93d9b1774bb5"
      },
      "source": [
        "for i in range(-10, -1 + 1, 1):\n",
        "  print(i)"
      ],
      "execution_count": 52,
      "outputs": [
        {
          "output_type": "stream",
          "name": "stdout",
          "text": [
            "-10\n",
            "-9\n",
            "-8\n",
            "-7\n",
            "-6\n",
            "-5\n",
            "-4\n",
            "-3\n",
            "-2\n",
            "-1\n"
          ]
        }
      ]
    },
    {
      "cell_type": "markdown",
      "metadata": {
        "id": "9DL4IQT0X_Aj"
      },
      "source": [
        "Exercise 10: Write a program to display all prime numbers within a range\n"
      ]
    },
    {
      "cell_type": "code",
      "metadata": {
        "colab": {
          "base_uri": "https://localhost:8080/"
        },
        "id": "dFpAsBO7YS7N",
        "outputId": "a4e1d456-a9f8-4dbd-a939-e96bcc09585e"
      },
      "source": [
        "#Nhap gia tri dau vao\n",
        "NumberStar = int(input(\"Enter Star range: \"))  \n",
        "NumberEnd = int(input(\"Enter end range: \"))  \n",
        "  \n",
        "#Thuat toan sang so nguyen to giua 2 khoang\n",
        "for num in range(NumberStar, NumberEnd + 1):  \n",
        "   if num > 1:  \n",
        "       for i in range(2,num):  \n",
        "           if (num % i) == 0:  \n",
        "               break  \n",
        "       else:  \n",
        "           print(num)  "
      ],
      "execution_count": 53,
      "outputs": [
        {
          "output_type": "stream",
          "name": "stdout",
          "text": [
            "Enter Star range: 2\n",
            "Enter end range: 15\n",
            "2\n",
            "3\n",
            "5\n",
            "7\n",
            "11\n",
            "13\n"
          ]
        }
      ]
    },
    {
      "cell_type": "markdown",
      "metadata": {
        "id": "dy725o8oYrhr"
      },
      "source": [
        "Exercise 11: Display Fibonacci series up to 10 terms "
      ]
    },
    {
      "cell_type": "code",
      "metadata": {
        "colab": {
          "base_uri": "https://localhost:8080/"
        },
        "id": "BS1bZnbSYsM8",
        "outputId": "8a1aa5b9-b47e-4d5e-90b8-25d81cf9448c"
      },
      "source": [
        "#Nhap gia tri dau vao\n",
        "NumberCout_Fibo = int(input(\"Enter the value : \"))\n",
        "\n",
        "#Thuc hien tinh toan\n",
        "#Y tuong: Su dung vong lap, khoi tao gia tri tong dau la 0, bien count de tao dieu kien dung, 2 bien a b de cong chong len nhau, bien b ke thua bien sum\n",
        "a = 0\n",
        "b = 1\n",
        "sum = 0\n",
        "count = 1\n",
        "print(\"Cac so Fibonacci la: \", end = \" \")\n",
        "while(count <= NumberCout_Fibo):\n",
        "  print(sum, end = \" \")\n",
        "  count += 1\n",
        "  a = b\n",
        "  b = sum\n",
        "  sum = a + b"
      ],
      "execution_count": 55,
      "outputs": [
        {
          "output_type": "stream",
          "name": "stdout",
          "text": [
            "Enter the value : 10\n",
            "Cac so Fibonacci la:  0 1 1 2 3 5 8 13 21 34 "
          ]
        }
      ]
    },
    {
      "cell_type": "markdown",
      "metadata": {
        "id": "_BIIZ_ItZ0oc"
      },
      "source": [
        ""
      ]
    },
    {
      "cell_type": "markdown",
      "metadata": {
        "id": "FwTdvDKkZ-EN"
      },
      "source": [
        "Exercise 12: Find the factorial of a given number"
      ]
    },
    {
      "cell_type": "code",
      "metadata": {
        "colab": {
          "base_uri": "https://localhost:8080/"
        },
        "id": "vjXQZ1rwZ-as",
        "outputId": "bfcbf062-c307-4ca0-d1c1-e11c8868e9d9"
      },
      "source": [
        "#Nhap gia tri dau vao\n",
        "NumberInput = int(input(\"Moi ban nhap gia tri dau vao: \"))\n",
        "\n",
        "#Tinh gia tri giai thua\n",
        "#Khoi tao mot bien luu gia tri la 1, su dung vong lap de lan luot nhan cac so voi bien, dong thoi giam gia tri ve 1 la dung\n",
        "Factorial = 1\n",
        "for i in range (NumberInput, 1, -1):\n",
        "  Factorial *= i\n",
        "\n",
        "#Xuat gia tri giai thua\n",
        "print(\"Gia tri giai thua la: \", Factorial)"
      ],
      "execution_count": 61,
      "outputs": [
        {
          "output_type": "stream",
          "name": "stdout",
          "text": [
            "Moi ban nhap gia tri dau vao: 5\n",
            "Gia tri giai thua la:  120\n"
          ]
        }
      ]
    },
    {
      "cell_type": "markdown",
      "metadata": {
        "id": "fj8vejrybNwc"
      },
      "source": [
        "Exercise 13: Reverse a given integer number \n"
      ]
    },
    {
      "cell_type": "code",
      "metadata": {
        "colab": {
          "base_uri": "https://localhost:8080/"
        },
        "id": "-YFVrhYCbQsU",
        "outputId": "13a8f6be-d57c-41ea-a07b-ec16e01b9a90"
      },
      "source": [
        "#Nhap gia tri dau vao\n",
        "NumberInput = int(input(\"Nhap gia dau vao: \"))\n",
        "\n",
        "# Check using while loop\n",
        "#Khoi tao gia tri dau rong, su dung vong lap while de lay lan luot cac phan tu va in nguoc lai, cac so khi nhan duoc se nhan 10 len de khong bi trung gia tri sau\n",
        "NumberOutput = 0\n",
        "while(NumberInput>0):\n",
        "  NumberReverse = NumberInput % 10\n",
        "  NumberOutput = (NumberOutput * 10) + NumberReverse\n",
        "  NumberInput = NumberInput//10\n",
        "\n",
        "#Xuat gia tri\n",
        "print(\"So dao nguoc la: \", NumberOutput)"
      ],
      "execution_count": 66,
      "outputs": [
        {
          "output_type": "stream",
          "name": "stdout",
          "text": [
            "Nhap gia dau vao: 123456\n",
            "So dao nguoc la:  654321\n"
          ]
        }
      ]
    },
    {
      "cell_type": "markdown",
      "metadata": {
        "id": "Z8sjI3cLcrzV"
      },
      "source": [
        "Exercise 14: Use a loop to display elements from a given list present at odd index positions "
      ]
    },
    {
      "cell_type": "code",
      "metadata": {
        "colab": {
          "base_uri": "https://localhost:8080/"
        },
        "id": "aWZKJ52vct75",
        "outputId": "c11bf078-cb61-4124-bf42-eae082ba9c59"
      },
      "source": [
        "#Nhap gia tri dau vao\n",
        "ListInput = list(input(\"Moi ban nhap gia tri cho List: \"))\n",
        "\n",
        "#Thuc hien in cac vi tri le trong List\n",
        "#Su dung vong lap chay cac vi tri tu 1 toi cac so le bang cach dung step = 2 \n",
        "for i in range(1, len(ListInput), 2):\n",
        "  print(ListInput[i])\n"
      ],
      "execution_count": 69,
      "outputs": [
        {
          "output_type": "stream",
          "name": "stdout",
          "text": [
            "Moi ban nhap gia tri cho List: 1 2 3 4 5 6\n",
            " \n",
            " \n",
            " \n",
            " \n",
            " \n"
          ]
        }
      ]
    }
  ]
}