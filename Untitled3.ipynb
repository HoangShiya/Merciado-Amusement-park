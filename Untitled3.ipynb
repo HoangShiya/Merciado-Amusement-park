{
  "nbformat": 4,
  "nbformat_minor": 0,
  "metadata": {
    "colab": {
      "name": "Untitled3.ipynb",
      "provenance": [],
      "collapsed_sections": [],
      "authorship_tag": "ABX9TyNIlowr8tpk1aYs5Ujpb7k5",
      "include_colab_link": true
    },
    "kernelspec": {
      "name": "python3",
      "display_name": "Python 3"
    },
    "language_info": {
      "name": "python"
    }
  },
  "cells": [
    {
      "cell_type": "markdown",
      "metadata": {
        "id": "view-in-github",
        "colab_type": "text"
      },
      "source": [
        "<a href=\"https://colab.research.google.com/github/shiya10576/Merciado-Amusement-park/blob/master/Untitled3.ipynb\" target=\"_parent\"><img src=\"https://colab.research.google.com/assets/colab-badge.svg\" alt=\"Open In Colab\"/></a>"
      ]
    },
    {
      "cell_type": "markdown",
      "metadata": {
        "id": "lg-MdwlPgJBL"
      },
      "source": [
        "Bài 1: Viết chương trình thực hiện các yêu cầu sau: \n",
        "- Nhập vào 1 số nguyên dương N từ bàn phím \n",
        "- Hãy xây dựng 1 dictionary với các phần tử chỉ mục và giá trị có dạng (i: log(i)) với I đi từ 0 tới N \n",
        "- Hiển thị dictionary trên ra màn hình \n"
      ]
    },
    {
      "cell_type": "code",
      "metadata": {
        "colab": {
          "base_uri": "https://localhost:8080/"
        },
        "id": "qARfECkZgKLX",
        "outputId": "b633239a-bbb4-46e7-c833-6f580a725dec"
      },
      "source": [
        "#Import thư viện math để sử dụng các phép toán\n",
        "import math\n",
        "\n",
        "#Nhập giá trị đầu vào\n",
        "NumberInput = int(input(\"Nhập vào 1 số nguyên dương N: \"))\n",
        "\n",
        "#Khởi tạo biến DicNumber dạng dict\n",
        "DicNumber = {}\n",
        "\n",
        "#Xây dựng 1 dictionary với các phần tử chỉ mục và giá trị có dạng (i: log(i)) với I đi từ 0 tới N\n",
        "for i in range(1, NumberInput + 1):\n",
        "  DicNumber[i] = round(math.log(i),2)\n",
        "\n",
        "#Hiển thị dictionary ra màn hình\n",
        "print(DicNumber) "
      ],
      "execution_count": 10,
      "outputs": [
        {
          "output_type": "stream",
          "name": "stdout",
          "text": [
            "Nhập vào 1 số nguyên dương N: 10\n",
            "{1: 0.0, 2: 0.69, 3: 1.1, 4: 1.39, 5: 1.61, 6: 1.79, 7: 1.95, 8: 2.08, 9: 2.2, 10: 2.3}\n"
          ]
        }
      ]
    },
    {
      "cell_type": "markdown",
      "metadata": {
        "id": "Wweirlb0hYxw"
      },
      "source": [
        "Bài 2: Viết chương trình thực hiện các yêu cầu sau: \n",
        "- Nhập vào từ bàn phím một chuỗi các giá trị (có thể là số nguyên, số thực hay các ký tự)  cách nhau bởi dấu phẩy (“,”). \n",
        "- Chuyển chuỗi được nhập từ bàn phím thành một danh sách (list) \n",
        "- Hiển thị danh sách đó ra màn hình. \n"
      ]
    },
    {
      "cell_type": "code",
      "metadata": {
        "colab": {
          "base_uri": "https://localhost:8080/"
        },
        "id": "YdBDKUWXhZho",
        "outputId": "facb4731-e831-4b6d-b87c-138f23a9e56e"
      },
      "source": [
        "#Nhập giá trị đầu vào một chuỗi giá trị\n",
        "ValueInput = input(\"Nhập vào một chuỗi giá trị: \")\n",
        "\n",
        "#Khởi tạo biến ListInput dưới dạng List để lưu các giá trị nhập vào\n",
        "ListInput = ValueInput.split()\n",
        "\n",
        "#Hiển thị danh sách ra màn hình\n",
        "print(ListInput)\n",
        "\n",
        "\n"
      ],
      "execution_count": 7,
      "outputs": [
        {
          "output_type": "stream",
          "name": "stdout",
          "text": [
            "Nhập vào một chuỗi giá trị: 1, 2, g, 2, f\n",
            "['1,', '2,', 'g,', '2,', 'f']\n"
          ]
        }
      ]
    },
    {
      "cell_type": "markdown",
      "metadata": {
        "id": "lPbr6O7yisRh"
      },
      "source": [
        "Bài 3: Viết chương trình thực hiện các yêu cầu sau: \n",
        "- Nhập vào từ bàn phím một chuỗi các giá trị (có thể là số nguyên, số thực hay các ký tự)  cách nhau bởi dấu phẩy (“,”). \n",
        "- Chuyển chuỗi được nhập từ bàn phím thành một tuple \n",
        "- Hiển thị tuple đó ra màn hình. \n"
      ]
    },
    {
      "cell_type": "code",
      "metadata": {
        "colab": {
          "base_uri": "https://localhost:8080/"
        },
        "id": "aXRuA25Xisy5",
        "outputId": "4300669d-91f7-4ddc-a5dc-0e14334a9665"
      },
      "source": [
        "#Nhập giá trị đầu vào một chuỗi giá trị\n",
        "ValueInput = input(\"Nhập vào một chuỗi giá trị: \")\n",
        "\n",
        "#Khởi tạo biến TupleInput để lưu trữ các giá trị vào Tuple\n",
        "TupleInput = ()\n",
        "\n",
        "#Lưu các giá trị nhập vào biến TupleInput\n",
        "TupleInput = ValueInput.split()\n",
        "\n",
        "#Hiển thị Tuple ra màn hình\n",
        "print(TupleInput)"
      ],
      "execution_count": 8,
      "outputs": [
        {
          "output_type": "stream",
          "name": "stdout",
          "text": [
            "Nhập vào một chuỗi giá trị: 1, 4, 5, 6, a\n",
            "['1,', '4,', '5,', '6,', 'a']\n"
          ]
        }
      ]
    },
    {
      "cell_type": "markdown",
      "metadata": {
        "id": "VodqY8e4jXrp"
      },
      "source": [
        "Bài 4: Viết chương trình thực hiện các yêu cầu sau: \n",
        "- Nhập vào 1 chuỗi các kí tự từ bàn phím, các từ cách nhau bởi ít nhất một khoảng trắng - Chuyển chuỗi vừa nhập thành 1 danh sách với điều kiện phân tách là dấu khoảng trắng  (space) \n",
        "- Hiển thị danh sách thu được ra màn hình \n"
      ]
    },
    {
      "cell_type": "code",
      "metadata": {
        "colab": {
          "base_uri": "https://localhost:8080/"
        },
        "id": "Vq6ZK0g7jYUp",
        "outputId": "33b6b9fc-a50d-4a39-eb8b-c8416194e795"
      },
      "source": [
        "#Nhập giá trị đầu vào một chuỗi giá trị\n",
        "ValueInput = input(\"Nhập vào 1 chuỗi các kí tự từ bàn phím, các từ cách nhau bởi ít nhất một khoảng trắng: \")\n",
        "\n",
        "#Khởi tạo biến ListInput dưới dạng List để lưu các giá trị nhập vào\n",
        "ListInput = ValueInput.split(\" \")\n",
        "\n",
        "#In danh sách ra mành hình\n",
        "print(ListInput)"
      ],
      "execution_count": 11,
      "outputs": [
        {
          "output_type": "stream",
          "name": "stdout",
          "text": [
            "Nhập vào 1 chuỗi các kí tự từ bàn phím, các từ cách nhau bởi ít nhất một khoảng trắng: a 1 2 4 d\n",
            "['a', '1', '2', '4', 'd']\n"
          ]
        }
      ]
    },
    {
      "cell_type": "markdown",
      "metadata": {
        "id": "W4YRyrHlmv1i"
      },
      "source": [
        "Bài 5: Viết chương trình thực hiện các yêu cầu sau: \n",
        "- Nhập vào 1 danh sách các số nguyên từ bàn phím (Quá trình nhập dừng khi người dùng  nhập vào 1 kí tự từ a đến z) \n",
        "- Hiển thị danh sách đó ra màn hình \n",
        "- Yêu cầu người dùng nhập vào một số nguyên N từ bàn phím \n",
        "- Tìm kiếm vị trí xuất hiện đầu tiên của N trong danh sách và hiển thị ra màn hình (nếu không  có thì thông báo không tìm thấy ra màn hình).  \n",
        "- Tìm kiếm tất cả các vị trí xuất hiện của N trong danh sách và hiển thị ra màn hình. (Nếu  không tìm thấy thì thông báo không tìm được ra màn hình)\n",
        "\n"
      ]
    },
    {
      "cell_type": "code",
      "metadata": {
        "colab": {
          "base_uri": "https://localhost:8080/",
          "height": 132
        },
        "id": "C6LAQzJLmwtq",
        "outputId": "7c158f39-11e3-4cac-8f7f-5e4981562922"
      },
      "source": [
        "\\\\LỖI: CHƯA LÀM ĐƯỢC\n",
        "\n",
        "\"\"\"\n",
        "Step 1: Nhập vào 1 danh sách các số nguyên từ bàn phím (Quá trình nhập dừng khi người dùng nhập vào 1 kí tự từ a đến z), hiển thị ra màn hình\n",
        "*Nhập vào 1 danh sách các số nguyên\n",
        "*In danh sách ra màn hình\n",
        "\"\"\"\n",
        "#Nhập vào 1 danh sách các số nguyên từ bàn phím (Quá trình nhập dừng khi người dùng nhập vào 1 kí tự từ a đến z)\n",
        "ListInput = int(input(\"Moi ban nhap gia tri: \"))\n",
        "\n",
        "#In danh sách ra màn hình\n",
        "print(ListInput)\n",
        "\n",
        "\n",
        "  "
      ],
      "execution_count": 34,
      "outputs": [
        {
          "output_type": "error",
          "ename": "SyntaxError",
          "evalue": "ignored",
          "traceback": [
            "\u001b[0;36m  File \u001b[0;32m\"<ipython-input-34-69a3462b69d9>\"\u001b[0;36m, line \u001b[0;32m1\u001b[0m\n\u001b[0;31m    \\\\LỖI\u001b[0m\n\u001b[0m         ^\u001b[0m\n\u001b[0;31mSyntaxError\u001b[0m\u001b[0;31m:\u001b[0m unexpected character after line continuation character\n"
          ]
        }
      ]
    }
  ]
}