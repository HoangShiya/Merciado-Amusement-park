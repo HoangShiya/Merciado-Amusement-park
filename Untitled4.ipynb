{
  "nbformat": 4,
  "nbformat_minor": 0,
  "metadata": {
    "colab": {
      "name": "Untitled4.ipynb",
      "provenance": [],
      "authorship_tag": "ABX9TyPlEryX5LND4wAYfX86GPG7",
      "include_colab_link": true
    },
    "kernelspec": {
      "name": "python3",
      "display_name": "Python 3"
    },
    "language_info": {
      "name": "python"
    }
  },
  "cells": [
    {
      "cell_type": "markdown",
      "metadata": {
        "id": "view-in-github",
        "colab_type": "text"
      },
      "source": [
        "<a href=\"https://colab.research.google.com/github/shiya10576/Merciado-Amusement-park/blob/master/Untitled4.ipynb\" target=\"_parent\"><img src=\"https://colab.research.google.com/assets/colab-badge.svg\" alt=\"Open In Colab\"/></a>"
      ]
    },
    {
      "cell_type": "markdown",
      "metadata": {
        "id": "stXuTicfwznf"
      },
      "source": [
        "Lập trình thực hiện các yêu cầu sau (xuất bài tập qua github và gửi link nộp bài tập ở đây):\n",
        "1) Tạo một biến x kiểu List rỗng\n",
        "2) Thêm giá trị 18 vào x\n",
        "3) Thêm giá trị \"Huế\" vào x\n",
        "4) Tạo 1 List y = [12, 45, -1, -0.56, \"abc\"]\n",
        "5) Thêm y vào x\n",
        "6) Xuất giá trị của x ra màn hình\n",
        "7) In ra màn hình giá trị của phần tử cuối cùng và phần tử đầu tiên của x\n",
        "8) In ra màn hình giá trị của phần tử đầu tiên đến phần tử thứ 5 của x\n",
        "9) In ra màn hình giá trị của phần từ thứ 3 đến cuối cùng của x\n"
      ]
    },
    {
      "cell_type": "code",
      "metadata": {
        "colab": {
          "base_uri": "https://localhost:8080/"
        },
        "id": "wPB_c5Oyw196",
        "outputId": "5bc17b3b-f4a5-437b-f871-984eb9d75616"
      },
      "source": [
        "#1 Tạo một biến x kiểu List rỗng\n",
        "x = []\n",
        "\n",
        "#2 Thêm giá trị 18 vào x\n",
        "x.append(18)\n",
        "\n",
        "#3 Thêm giá trị \"Huế\" vào x\n",
        "x.append(\"Huế\")\n",
        "\n",
        "#4 Tạo 1 List y = [12, 45, -1, -0.56, \"abc\"]\n",
        "y = [12, 45, -1, -0.56, \"abc\"]\n",
        "\n",
        "#5 Thêm y vào x\n",
        "x.extend(y)\n",
        "\n",
        "#6 Xuất giá trị của x ra màn hình\n",
        "print(x)\n",
        "\n",
        "#7 In ra màn hình giá trị của phần tử cuối cùng và phần tử đầu tiên của x\n",
        "print(\"Gia tri phan tu dau tien cua x la: \", x[0])\n",
        "print(\"Gia tri phan tu cuoi cung cua x la: \", x[-1])\n",
        "\n",
        "#8 In ra màn hình giá trị của phần tử đầu tiên đến phần tử thứ 5 của x\n",
        "print(\"Gia tri phan tu dau tien den thu 5 cua x la: \", x[0 : 5])\n",
        "\n",
        "#9 In ra màn hình giá trị của phần từ thứ 3 đến cuối cùng của x\n",
        "print(\"Gua tru phan tu thu 3 den cuoi cua chuoi la: \", x[2 :])"
      ],
      "execution_count": 15,
      "outputs": [
        {
          "output_type": "stream",
          "name": "stdout",
          "text": [
            "[18, 'Huế', 12, 45, -1, -0.56, 'abc']\n",
            "Gia tri phan tu dau tien cua x la:  18\n",
            "Gia tri phan tu cuoi cung cua x la:  abc\n",
            "Gia tri phan tu dau tien den thu 5 cua x la:  [18, 'Huế', 12, 45, -1]\n",
            "Gua tru phan tu thu 3 den cuoi cua chuoi la:  [12, 45, -1, -0.56, 'abc']\n"
          ]
        }
      ]
    }
  ]
}