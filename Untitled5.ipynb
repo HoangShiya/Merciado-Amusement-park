{
  "nbformat": 4,
  "nbformat_minor": 0,
  "metadata": {
    "colab": {
      "name": "Untitled5.ipynb",
      "provenance": [],
      "authorship_tag": "ABX9TyMn5RgLTKy8n8oUeUWZNFHn",
      "include_colab_link": true
    },
    "kernelspec": {
      "name": "python3",
      "display_name": "Python 3"
    },
    "language_info": {
      "name": "python"
    }
  },
  "cells": [
    {
      "cell_type": "markdown",
      "metadata": {
        "id": "view-in-github",
        "colab_type": "text"
      },
      "source": [
        "<a href=\"https://colab.research.google.com/github/shiya10576/Merciado-Amusement-park/blob/master/Untitled5.ipynb\" target=\"_parent\"><img src=\"https://colab.research.google.com/assets/colab-badge.svg\" alt=\"Open In Colab\"/></a>"
      ]
    },
    {
      "cell_type": "markdown",
      "metadata": {
        "id": "QWGRcPJo2d9J"
      },
      "source": [
        "1. Write a Python program to find the number of days in a month. \n",
        "Test Data \n",
        "Input a month number: 2 \n",
        "Input a year: 2016 \n",
        "Expected Output : \n",
        "February 2016 has 29 days \n",
        "\n",
        "\n"
      ]
    },
    {
      "cell_type": "code",
      "metadata": {
        "colab": {
          "base_uri": "https://localhost:8080/"
        },
        "id": "Xge5-IQ-2ftj",
        "outputId": "64ecb0f3-5f52-41c6-dab0-1480008af580"
      },
      "source": [
        "\"\"\"\n",
        "*Nhập dữ liệu đầu vào\n",
        "*Kiểm tra điều kiện nhập vào, nếu âm thì yêu cầu nhập lại\n",
        "\"\"\"\n",
        "#Nhập tháng, năm đầu vào\n",
        "MonthInput = int(input(\"Moi ban nhap thang: \"))\n",
        "YearInput = int(input(\"Moi ban nhap nam: \"))\n",
        "\n",
        "#Nếu tháng hoặc năm âm thì yêu cầu nhập lại\n",
        "while not (MonthInput > 0):\n",
        "  MonthInput = int(input(\"Moi ban nhap lai thang: \"))\n",
        "  \n",
        "while not (YearInput > 0):\n",
        "  YearInput = int(input(\"Moi ban nhap lai nam: \"))\n",
        "\n",
        "\"\"\"\n",
        "*Tháng 1-7: Các tháng lẻ có 31 ngày, tháng chẵn có 30 ngày\n",
        "*Tháng 8-12: Các tháng lẻ có 30 ngày, tháng chẵn có 31 ngày\n",
        "\"\"\"\n",
        "#Tháng 1-7\n",
        "if (MonthInput <= 7):\n",
        "  #Tháng chẵn có 30 ngày, tháng lẻ có 31 ngày\n",
        "  if (MonthInput % 2 == 0) and (MonthInput != 2):\n",
        "    print(\"Thang \", MonthInput, \" nam \", YearInput, \" co 30 ngay \" )\n",
        "  if (MonthInput % 2 != 0) and (MonthInput != 2):\n",
        "    print(\"Thang \", MonthInput, \" nam \", YearInput, \" co 31 ngay \" )\n",
        "#Tháng 8-12\n",
        "else:\n",
        "  #Từ tháng 7 trở đi, thàng chẵn có 31 ngày, tháng lẻ có 30 ngày\n",
        "  if (MonthInput % 2 == 0):\n",
        "    print(\"Thang \", MonthInput, \" nam \", YearInput, \" co 31 ngay \" )\n",
        "  else:\n",
        "    print(\"Thang \", MonthInput, \" nam \", YearInput, \" co 30 ngay \" )\n",
        "\n",
        "\"\"\"\n",
        "@4 năm có 1 năm nhuận là năm chia hết cho 4. \n",
        "*Năm nhuận thì tháng 2 có 29 ngày.\n",
        "*Năm không nhuận thì tháng 2 có 28 ngày\n",
        "\"\"\"\n",
        "if (MonthInput == 2):\n",
        "  if (YearInput % 4 == 0):\n",
        "    print(\"Thang \", MonthInput, \" nam \", YearInput, \" co 29 ngay \" )\n",
        "  else:\n",
        "    print(\"Thang \", MonthInput, \" nam \", YearInput, \" co 28 ngay \" )"
      ],
      "execution_count": 22,
      "outputs": [
        {
          "output_type": "stream",
          "name": "stdout",
          "text": [
            "Moi ban nhap thang: 2\n",
            "Moi ban nhap nam: 2000\n",
            "Thang  2  nam  2000  co 29 ngay \n"
          ]
        }
      ]
    },
    {
      "cell_type": "markdown",
      "metadata": {
        "id": "igSIliR48A31"
      },
      "source": [
        "2. Write a Python program that takes the user to provide a single character from the alphabet. Print  Vowel or Consonant, depending on the user input. If the user input is not a letter (between a and z  or A and Z), or is a string of length > 1, print an error message. \n",
        "Test Data \n",
        "Input an alphabet: p \n",
        "Expected Output : \n",
        "Input letter is Consonant \n",
        "\n"
      ]
    },
    {
      "cell_type": "code",
      "metadata": {
        "colab": {
          "base_uri": "https://localhost:8080/"
        },
        "id": "RIiLvcWq8Bsl",
        "outputId": "f6386cff-5ee2-440e-848a-f1f2fdda5bb4"
      },
      "source": [
        "#Nhập giá trị đầu vào\n",
        "ValueInput = input(\"Mời bạn nhập giá trị: \")\n",
        "\n",
        "\"\"\"\n",
        "@Sử dụng if-else hoặc cấu trúc Switch-case để xác định nguyên âm, phụ âm\n",
        "*Nguyên âm là : o, u, i, a , e, O, U, I, A, E\n",
        "*Còn lại là phụ âm\n",
        "\"\"\"\n",
        "#Trường hợp này sử dụng cấu trúc cơ bản là if-else\n",
        "if (ValueInput == \"o\") or (ValueInput == \"u\") or (ValueInput == \"i\") or (ValueInput == \"a\") or (ValueInput == \"e\") or (ValueInput == \"O\") or (ValueInput == \"U\") or (ValueInput == \"I\") or (ValueInput == \"A\") or (ValueInput == \"E\"):\n",
        "  print(\"Đây là nguyên âm\")\n",
        "else:\n",
        "  print(\"Đây là phụ âm\") "
      ],
      "execution_count": 25,
      "outputs": [
        {
          "output_type": "stream",
          "name": "stdout",
          "text": [
            "Mời bạn nhập giá trị: o\n",
            "Đây là nguyên âm\n"
          ]
        }
      ]
    },
    {
      "cell_type": "markdown",
      "metadata": {
        "id": "q2lnbl7L-0gu"
      },
      "source": [
        "3. Write a Python program that takes a year from user and print whether that year is a leap year or  not \n",
        "Test Data \n",
        "Input the year: 2016 \n",
        "Expected Output : \n",
        "2016 is a leap year \n"
      ]
    },
    {
      "cell_type": "code",
      "metadata": {
        "colab": {
          "base_uri": "https://localhost:8080/"
        },
        "id": "MQWUDNi8_D7t",
        "outputId": "4e9d496f-17cc-49f2-c4c6-8ec309014293"
      },
      "source": [
        "\"\"\"\n",
        "*Nhập dữ liệu đầu vào\n",
        "*Kiểm tra điều kiện nhập vào, nếu âm thì yêu cầu nhập lại\n",
        "\"\"\"\n",
        "#Nhập giá trị đầu vào là năm cần xét điều kiện\n",
        "YearInput = int(input(\"Moi ban nhap nam: \"))\n",
        "\n",
        "#Nếu giá trị nhập vào âm, yêu cầu nhập lại\n",
        "while not (YearInput > 0):\n",
        "  YearInput = int(input(\"Moi ban nhap nam, năm phải là số dương: \"))\n",
        "\n",
        "\"\"\"\n",
        "@Kiểm tra có phải năm nhuận hay không\n",
        "*Năm chia hết cho 4 thì là năm nhuận\n",
        "*Năm không chia hết cho 4 thì là năm không nhuận\n",
        "Ý tưởng: Sử dụng cấu trúc if-else cho 2 điều kiện trên\n",
        "\"\"\"\n",
        "if (YearInput % 4 == 0):\n",
        "  print(\"Đây là năm nhuận\")\n",
        "else: \n",
        "  print(\"Đây không phải năm nhuận\")\n"
      ],
      "execution_count": 28,
      "outputs": [
        {
          "output_type": "stream",
          "name": "stdout",
          "text": [
            "Moi ban nhap nam: -5\n",
            "Moi ban nhap nam, năm phải là số dương: 2016\n",
            "Đây là năm nhuận\n"
          ]
        }
      ]
    },
    {
      "cell_type": "markdown",
      "metadata": {
        "id": "mk00dpOoAAgW"
      },
      "source": [
        "4. Write a program in Python to input 5 numbers from keyboard and find their sum and average. \n",
        "Test Data \n",
        "Input the 5 numbers : 1 2 3 4 5 \n",
        "Expected Output : \n",
        "The sum of 5 no is : 15  \n",
        "\n"
      ]
    },
    {
      "cell_type": "code",
      "metadata": {
        "colab": {
          "base_uri": "https://localhost:8080/",
          "height": 238
        },
        "id": "iEmtyGHzABLh",
        "outputId": "b3188964-893d-4aaa-c5f3-35c9bbfdca60"
      },
      "source": [
        "#Lỗi\n",
        "\"\"\"\n",
        "@Nhập 5 sô vào từ bàn phím, tính:\n",
        "*Tổng 5 số\n",
        "*Trung bình của 5 số\n",
        "Ý tưởng: Khởi tạo 2 biến sum và average, sử dụng vòng lặp để nhập lần lượt 5 giá trị từ bàn phím:\n",
        "+Mỗi số nhập vào sẽ trực tiếp cộng vào biến sum\n",
        "+Mỗi số nhập vào sẽ cộng thương của số đó với tổng các chữ số (VD: nhập a,b,c,d,e thì giá trị cộng vào average lần lượt là: a/5 + b/5 + c/5 + d/5 + e/5)\n",
        "\"\"\"\n",
        "\n",
        "#Tạo 2 biến sum và average để tính tổng và trung bình cộng\n",
        "sum = 0\n",
        "average = 0\n",
        "\n",
        "#Sử dụng vòng lặp for để nhập các giá trị từ bàn phím và cộng vào 2 biến sum và average\n",
        "for i in range(0, 5):\n",
        "  NumberInput = print(int(input(\"Moi ban nhap gia tri so thu \", i, \":\")))\n",
        "  sum += NumberInput\n",
        "  average += NumberInput // 5\n",
        "\n",
        "#Xuát giá trị của tổng và trung bình cộng 5 số ra màn hình\n",
        "print(\"Tổng của 5 số là: \", sum)\n",
        "print(\"Trung bình cộng của 5 số là: \", round(average, 2))\n",
        "\n"
      ],
      "execution_count": 36,
      "outputs": [
        {
          "output_type": "error",
          "ename": "TypeError",
          "evalue": "ignored",
          "traceback": [
            "\u001b[0;31m---------------------------------------------------------------------------\u001b[0m",
            "\u001b[0;31mTypeError\u001b[0m                                 Traceback (most recent call last)",
            "\u001b[0;32m<ipython-input-36-fe1f45fd45a7>\u001b[0m in \u001b[0;36m<module>\u001b[0;34m()\u001b[0m\n\u001b[1;32m     15\u001b[0m \u001b[0;31m#Sử dụng vòng lặp for để nhập các giá trị từ bàn phím và cộng vào 2 biến sum và average\u001b[0m\u001b[0;34m\u001b[0m\u001b[0;34m\u001b[0m\u001b[0;34m\u001b[0m\u001b[0m\n\u001b[1;32m     16\u001b[0m \u001b[0;32mfor\u001b[0m \u001b[0mi\u001b[0m \u001b[0;32min\u001b[0m \u001b[0mrange\u001b[0m\u001b[0;34m(\u001b[0m\u001b[0;36m0\u001b[0m\u001b[0;34m,\u001b[0m \u001b[0;36m5\u001b[0m\u001b[0;34m)\u001b[0m\u001b[0;34m:\u001b[0m\u001b[0;34m\u001b[0m\u001b[0;34m\u001b[0m\u001b[0m\n\u001b[0;32m---> 17\u001b[0;31m   \u001b[0mNumberInput\u001b[0m \u001b[0;34m=\u001b[0m \u001b[0mprint\u001b[0m\u001b[0;34m(\u001b[0m\u001b[0mint\u001b[0m\u001b[0;34m(\u001b[0m\u001b[0minput\u001b[0m\u001b[0;34m(\u001b[0m\u001b[0;34m\"Moi ban nhap gia tri so thu \"\u001b[0m\u001b[0;34m,\u001b[0m \u001b[0mi\u001b[0m\u001b[0;34m,\u001b[0m \u001b[0;34m\":\"\u001b[0m\u001b[0;34m)\u001b[0m\u001b[0;34m)\u001b[0m\u001b[0;34m)\u001b[0m\u001b[0;34m\u001b[0m\u001b[0;34m\u001b[0m\u001b[0m\n\u001b[0m\u001b[1;32m     18\u001b[0m   \u001b[0msum\u001b[0m \u001b[0;34m+=\u001b[0m \u001b[0mNumberInput\u001b[0m\u001b[0;34m\u001b[0m\u001b[0;34m\u001b[0m\u001b[0m\n\u001b[1;32m     19\u001b[0m   \u001b[0maverage\u001b[0m \u001b[0;34m+=\u001b[0m \u001b[0mNumberInput\u001b[0m \u001b[0;34m//\u001b[0m \u001b[0;36m5\u001b[0m\u001b[0;34m\u001b[0m\u001b[0;34m\u001b[0m\u001b[0m\n",
            "\u001b[0;31mTypeError\u001b[0m: raw_input() takes from 1 to 2 positional arguments but 4 were given"
          ]
        }
      ]
    },
    {
      "cell_type": "code",
      "metadata": {
        "id": "uLnUfPqwAkIO"
      },
      "source": [
        ""
      ],
      "execution_count": null,
      "outputs": []
    }
  ]
}